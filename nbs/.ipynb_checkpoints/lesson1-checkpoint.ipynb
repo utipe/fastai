{
 "cells": [
  {
   "cell_type": "code",
   "execution_count": null,
   "metadata": {},
   "outputs": [],
   "source": [
    "%matplotlib inline\n",
    "import importlib\n",
    "from __future__ import division,print_function\n",
    "import os, json\n",
    "from glob import glob\n",
    "import numpy as np\n",
    "np.set_printoptions(precision=4, linewidth=100)\n",
    "from matplotlib import pyplot as plt\n",
    "import utils; reload(utils)\n",
    "from utils import plots\n",
    "from IPython.display import FileLink\n",
    "import vgg16; reload(vgg16)\n",
    "from vgg16 import Vgg16\n",
    "from shutil import copyfile"
   ]
  },
  {
   "cell_type": "markdown",
   "metadata": {},
   "source": [
    "# Download data from kaggle"
   ]
  },
  {
   "cell_type": "code",
   "execution_count": null,
   "metadata": {},
   "outputs": [],
   "source": [
    "%cd ..\n",
    "%mkdir data\n",
    "%mkdir data/catsdogs\n",
    "%mkdir data/catsdogs/train\n",
    "%mkdir data/catsdogs/train/cats\n",
    "%mkdir data/catsdogs/train/dogs\n",
    "%mkdir data/catsdogs/valid\n",
    "%mkdir data/catsdogs/valid/cats\n",
    "%mkdir data/catsdogs/valid/dogs\n",
    "%mkdir data/catsdogs/test\n",
    "%mkdir data/catsdogs/test/testset\n",
    "%cd data\n",
    "!kg download -u <username> -p <password> -c dogs-vs-cats-redux-kernels-edition\n",
    "!unzip train.zip\n",
    "!unzip test.zip\n",
    "%rm train.zip\n",
    "%rm test.zip\n",
    "%mv test/*.jpg catsdogs/test/testset\n",
    "%rm -rf test\n",
    "%cd train\n",
    "g = glob.(\"*.jpg\")\n",
    "trainsize = int(0.9*len(g))\n",
    "shuf = np.random.permutation(g)\n",
    "for i in range(trainsize): copyfile(shuf[i],\"../catsdogs/train/\"+shuf[i])\n",
    "for i in range(trainsize,len(g)): copyfile(shuf[i], \"../catsdogs/valid/\"+shuf[i])\n",
    "%cd ../catsdogs\n",
    "%mv train/cat.*.jpg train/cats/\n",
    "%mv train/dog.*.jpg train/dogs/\n",
    "%rm -rf train/*.jpg\n",
    "%mv valid/cat.*.jpg valid/cats/\n",
    "%mv valid/dog.*.jpg valid/dogs/\n",
    "%rm -rf valid/*.jpg"
   ]
  },
  {
   "cell_type": "code",
   "execution_count": null,
   "metadata": {},
   "outputs": [],
   "source": [
    "%cd ..\n",
    "%cd ../nbs\n",
    "vgg = Vgg16()\n",
    "\n",
    "batch_size=50\n",
    "path = \"../data/catsdogs/\"\n",
    "\n",
    "batches = vgg.get_batches(path+'train', batch_size=batch_size)\n",
    "val_batches = vgg.get_batches(path+'valid', batch_size=batch_size*2)\n",
    "vgg.finetune(batches)\n",
    "vgg.model.optimizer.lr = 0.01\n",
    "vgg.fit(batches, val_batches, nb_epoch=1)"
   ]
  },
  {
   "cell_type": "code",
   "execution_count": null,
   "metadata": {},
   "outputs": [],
   "source": [
    "%mkdir results\n",
    "vgg.model.save_weights(\"results/ft1.h5\")"
   ]
  },
  {
   "cell_type": "code",
   "execution_count": null,
   "metadata": {},
   "outputs": [],
   "source": [
    "%cd ../data/catsdogs\n",
    "test1, test2 = vgg.test(\"test\",batch_size = batch_size*2)\n",
    "filename = test1.filenames\n",
    "name = [int(f[8:f.find(\".\")]) for f in filename]\n",
    "isdog = np.clip(test2[:,1],0.02,0.98)\n",
    "subm = np.stack([name,isdog],axis=1)\n",
    "np.savetxt(\"subm98.csv\",subm,fmt=\"%d,%.5f\",header=\"id,label\",comments=\"\")\n",
    "!kg submit subm98.csv -u annelee -p again1988 -c dogs-vs-cats-redux-kernels-edition -m \"submission attempt 1\""
   ]
  },
  {
   "cell_type": "code",
   "execution_count": null,
   "metadata": {},
   "outputs": [],
   "source": [
    "FileLink(\"../data/subm98.csv\")"
   ]
  },
  {
   "cell_type": "code",
   "execution_count": null,
   "metadata": {},
   "outputs": [],
   "source": []
  },
  {
   "cell_type": "code",
   "execution_count": null,
   "metadata": {},
   "outputs": [],
   "source": []
  },
  {
   "cell_type": "code",
   "execution_count": null,
   "metadata": {},
   "outputs": [],
   "source": []
  },
  {
   "cell_type": "code",
   "execution_count": null,
   "metadata": {},
   "outputs": [],
   "source": []
  },
  {
   "cell_type": "code",
   "execution_count": null,
   "metadata": {},
   "outputs": [],
   "source": []
  },
  {
   "cell_type": "code",
   "execution_count": null,
   "metadata": {},
   "outputs": [],
   "source": []
  },
  {
   "cell_type": "code",
   "execution_count": null,
   "metadata": {},
   "outputs": [],
   "source": []
  },
  {
   "cell_type": "code",
   "execution_count": null,
   "metadata": {},
   "outputs": [],
   "source": []
  },
  {
   "cell_type": "code",
   "execution_count": null,
   "metadata": {},
   "outputs": [],
   "source": []
  },
  {
   "cell_type": "code",
   "execution_count": null,
   "metadata": {},
   "outputs": [],
   "source": []
  }
 ],
 "metadata": {
  "kernelspec": {
   "display_name": "Python 3",
   "language": "python",
   "name": "python3"
  },
  "language_info": {
   "codemirror_mode": {
    "name": "ipython",
    "version": 3
   },
   "file_extension": ".py",
   "mimetype": "text/x-python",
   "name": "python",
   "nbconvert_exporter": "python",
   "pygments_lexer": "ipython3",
   "version": "3.5.2"
  }
 },
 "nbformat": 4,
 "nbformat_minor": 2
}
